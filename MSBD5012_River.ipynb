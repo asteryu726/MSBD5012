{
  "nbformat": 4,
  "nbformat_minor": 0,
  "metadata": {
    "colab": {
      "name": "River",
      "provenance": [],
      "include_colab_link": true
    },
    "kernelspec": {
      "name": "python3",
      "display_name": "Python 3"
    },
    "language_info": {
      "name": "python"
    }
  },
  "cells": [
    {
      "cell_type": "markdown",
      "metadata": {
        "id": "view-in-github",
        "colab_type": "text"
      },
      "source": [
        "<a href=\"https://colab.research.google.com/github/cenzwong/MSBD5012/blob/main/MSBD5012_River.ipynb\" target=\"_parent\"><img src=\"https://colab.research.google.com/assets/colab-badge.svg\" alt=\"Open In Colab\"/></a>"
      ]
    },
    {
      "cell_type": "markdown",
      "metadata": {
        "id": "AyQssJfK31Wo"
      },
      "source": [
        "# River Implementation"
      ]
    },
    {
      "cell_type": "code",
      "metadata": {
        "colab": {
          "base_uri": "https://localhost:8080/",
          "height": 668
        },
        "id": "edCMhUBT0x6x",
        "outputId": "c423f6c6-097a-45cd-f843-6467c48fd47b"
      },
      "source": [
        "!pip install git+https://github.com/online-ml/river --upgrade\n",
        "!pip install -U numpy"
      ],
      "execution_count": 1,
      "outputs": [
        {
          "output_type": "stream",
          "name": "stdout",
          "text": [
            "Collecting git+https://github.com/online-ml/river\n",
            "  Cloning https://github.com/online-ml/river to /tmp/pip-req-build-g5330mlb\n",
            "  Running command git clone -q https://github.com/online-ml/river /tmp/pip-req-build-g5330mlb\n",
            "Requirement already satisfied: numpy>=1.18.1 in /usr/local/lib/python3.7/dist-packages (from river==0.8.0) (1.19.5)\n",
            "Requirement already satisfied: scipy>=1.4.1 in /usr/local/lib/python3.7/dist-packages (from river==0.8.0) (1.4.1)\n",
            "Requirement already satisfied: pandas>=1.0.1 in /usr/local/lib/python3.7/dist-packages (from river==0.8.0) (1.1.5)\n",
            "Requirement already satisfied: pytz>=2017.2 in /usr/local/lib/python3.7/dist-packages (from pandas>=1.0.1->river==0.8.0) (2018.9)\n",
            "Requirement already satisfied: python-dateutil>=2.7.3 in /usr/local/lib/python3.7/dist-packages (from pandas>=1.0.1->river==0.8.0) (2.8.2)\n",
            "Requirement already satisfied: six>=1.5 in /usr/local/lib/python3.7/dist-packages (from python-dateutil>=2.7.3->pandas>=1.0.1->river==0.8.0) (1.15.0)\n",
            "Building wheels for collected packages: river\n",
            "  Building wheel for river (setup.py) ... \u001b[?25l\u001b[?25hdone\n",
            "  Created wheel for river: filename=river-0.8.0-cp37-cp37m-linux_x86_64.whl size=2143852 sha256=68fc9fbbf6a57340f5bef0690ac566e26727defc876c42fa9e00427b41db8165\n",
            "  Stored in directory: /tmp/pip-ephem-wheel-cache-vcwdx64q/wheels/a1/81/b6/35dc3f68cb6c44cc3967a6a2f40410150d6ed5df2ff2b83f41\n",
            "Successfully built river\n",
            "Installing collected packages: river\n",
            "Successfully installed river-0.8.0\n",
            "Requirement already satisfied: numpy in /usr/local/lib/python3.7/dist-packages (1.19.5)\n",
            "Collecting numpy\n",
            "  Downloading numpy-1.21.4-cp37-cp37m-manylinux_2_12_x86_64.manylinux2010_x86_64.whl (15.7 MB)\n",
            "\u001b[K     |████████████████████████████████| 15.7 MB 8.6 MB/s \n",
            "\u001b[?25hInstalling collected packages: numpy\n",
            "  Attempting uninstall: numpy\n",
            "    Found existing installation: numpy 1.19.5\n",
            "    Uninstalling numpy-1.19.5:\n",
            "      Successfully uninstalled numpy-1.19.5\n",
            "\u001b[31mERROR: pip's dependency resolver does not currently take into account all the packages that are installed. This behaviour is the source of the following dependency conflicts.\n",
            "yellowbrick 1.3.post1 requires numpy<1.20,>=1.16.0, but you have numpy 1.21.4 which is incompatible.\n",
            "datascience 0.10.6 requires folium==0.2.1, but you have folium 0.8.3 which is incompatible.\n",
            "albumentations 0.1.12 requires imgaug<0.2.7,>=0.2.5, but you have imgaug 0.2.9 which is incompatible.\u001b[0m\n",
            "Successfully installed numpy-1.21.4\n"
          ]
        },
        {
          "output_type": "display_data",
          "data": {
            "application/vnd.colab-display-data+json": {
              "pip_warning": {
                "packages": [
                  "numpy"
                ]
              }
            }
          },
          "metadata": {}
        }
      ]
    },
    {
      "cell_type": "code",
      "metadata": {
        "colab": {
          "base_uri": "https://localhost:8080/"
        },
        "id": "QNHkNoGq00Qv",
        "outputId": "2cb238b2-5011-4ec8-c85e-373fb89e2ee4"
      },
      "source": [
        "# !gdown https://drive.google.com/uc?id=1LHDaW3vqUBcA7yPUh3CiV5muJn7d0EFD\n",
        "!wget https://raw.githubusercontent.com/cenzwong/MSBD5012/main/data/train.csv.zip -O train.csv.zip\n",
        "!unzip train.csv.zip"
      ],
      "execution_count": 2,
      "outputs": [
        {
          "output_type": "stream",
          "name": "stdout",
          "text": [
            "--2021-11-26 13:15:28--  https://raw.githubusercontent.com/cenzwong/MSBD5012/main/data/train.csv.zip\n",
            "Resolving raw.githubusercontent.com (raw.githubusercontent.com)... 185.199.108.133, 185.199.109.133, 185.199.110.133, ...\n",
            "Connecting to raw.githubusercontent.com (raw.githubusercontent.com)|185.199.108.133|:443... connected.\n",
            "HTTP request sent, awaiting response... 200 OK\n",
            "Length: 23570978 (22M) [application/zip]\n",
            "Saving to: ‘train.csv.zip’\n",
            "\n",
            "train.csv.zip       100%[===================>]  22.48M   136MB/s    in 0.2s    \n",
            "\n",
            "2021-11-26 13:15:29 (136 MB/s) - ‘train.csv.zip’ saved [23570978/23570978]\n",
            "\n",
            "Archive:  train.csv.zip\n",
            "  inflating: train.csv               \n"
          ]
        }
      ]
    },
    {
      "cell_type": "code",
      "metadata": {
        "id": "mt4o3fSsWykJ"
      },
      "source": [
        "import numpy as np\n",
        "import pandas as pd\n",
        "\n",
        "df_csv = pd.read_csv('./train.csv', usecols=['id', 'date', 'family', 'sales'], header=0)\n",
        "\n",
        "data = df_csv.copy()\n",
        "data['date'] = pd.to_datetime(data['date'], format = \"%Y-%m-%d\")\n",
        "df_train_mag_sales = data.loc[(data['family'] == 'MAGAZINES') & ((data['date'] >= '2014-01-01') & (data['date'] <= '2017-06-30'))].groupby(['date']).sum().copy()\n",
        "df_train_mag_sales = df_train_mag_sales.loc[:, 'sales':'sales']\n",
        "\n",
        "data = df_csv.copy()\n",
        "data['date'] = pd.to_datetime(data['date'], format = \"%Y-%m-%d\")\n",
        "df_test_mag_sales = data.loc[(data['family'] == 'MAGAZINES') & ((data['date'] >= '2017-07-1') & (data['date'] <= '2017-08-15'))].groupby(['date']).sum().copy()\n",
        "df_test_mag_sales = df_test_mag_sales.loc[:, 'sales':'sales']\n"
      ],
      "execution_count": 3,
      "outputs": []
    },
    {
      "cell_type": "code",
      "metadata": {
        "id": "9LQCyOaYw_DR"
      },
      "source": [
        "# from river import stream\n",
        "\n",
        "# rv_train = stream.iter_csv(\n",
        "#     '/content/train.csv',\n",
        "#     converters={\n",
        "#         'sales':float\n",
        "#     },\n",
        "#     drop = ['id', 'family', 'onpromotion', 'store_nbr'],\n",
        "#     parse_dates={'date': '%Y-%m-%d'},\n",
        "#     target='sales'\n",
        "# )\n",
        "\n",
        "# for x, y in rv_train:\n",
        "#     print(x, y)\n",
        "#     break"
      ],
      "execution_count": 4,
      "outputs": []
    },
    {
      "cell_type": "code",
      "metadata": {
        "id": "La2z0RJIZhvS"
      },
      "source": [
        "df_train_mag_sales.head(2)\n",
        "df_train_mag_sales.to_csv('train_clean.csv', index=True)"
      ],
      "execution_count": 20,
      "outputs": []
    },
    {
      "cell_type": "code",
      "metadata": {
        "id": "RaK9LVdgeXP6"
      },
      "source": [
        ""
      ],
      "execution_count": null,
      "outputs": []
    },
    {
      "cell_type": "code",
      "metadata": {
        "id": "c9cJWM9meXHh",
        "outputId": "b4ee6672-495d-46e1-d868-fc3e13708ce2",
        "colab": {
          "base_uri": "https://localhost:8080/"
        }
      },
      "source": [
        "params = {\n",
        "  'converters': {'sales': float},\n",
        "  'parse_dates': {'date': '%Y-%m-%d'} \n",
        "  }\n",
        "next(stream.iter_csv('train_clean.csv', target='sales', **params))"
      ],
      "execution_count": 21,
      "outputs": [
        {
          "output_type": "execute_result",
          "data": {
            "text/plain": [
              "({'date': datetime.datetime(2014, 1, 1, 0, 0)}, 1.0)"
            ]
          },
          "metadata": {},
          "execution_count": 21
        }
      ]
    },
    {
      "cell_type": "code",
      "metadata": {
        "id": "EhuL59IYyfPR"
      },
      "source": [
        "from river import compose\n",
        "from river import linear_model\n",
        "from river import preprocessing\n",
        "\n",
        "\n",
        "def get_ordinal_date(x):\n",
        "    return {'ordinal_date': x['date'].toordinal()}\n",
        "\n",
        "\n",
        "model = compose.Pipeline(\n",
        "    ('ordinal_date', compose.FuncTransformer(get_ordinal_date)),\n",
        "    ('scale', preprocessing.StandardScaler()),\n",
        "    ('lin_reg', linear_model.LinearRegression())\n",
        ")"
      ],
      "execution_count": 22,
      "outputs": []
    },
    {
      "cell_type": "code",
      "metadata": {
        "id": "ITHXHm1jzigv"
      },
      "source": [
        "from river import metrics\n",
        "import matplotlib.pyplot as plt\n",
        "\n",
        "\n",
        "def evaluate_model(model): \n",
        "\n",
        "    metric = metrics.Rolling(metrics.MAE(), 12)\n",
        "\n",
        "    dates = []\n",
        "    y_trues = []\n",
        "    y_preds = []\n",
        "\n",
        "    params = {\n",
        "     'converters': {'sales': float},\n",
        "     'parse_dates': {'date': '%Y-%m-%d'} \n",
        "     }\n",
        "    for x, y in stream.iter_csv('train_clean.csv', target='sales', **params):\n",
        "\n",
        "        # Obtain the prior prediction and update the model in one go\n",
        "        y_pred = model.predict_one(x)\n",
        "        model.learn_one(x, y)\n",
        "\n",
        "        # Update the error metric\n",
        "        metric.update(y, y_pred)\n",
        "\n",
        "        # Store the true value and the prediction\n",
        "        dates.append(x['date'])\n",
        "        y_trues.append(y)\n",
        "        y_preds.append(y_pred)\n",
        "\n",
        "    # Plot the results\n",
        "    fig, ax = plt.subplots(figsize=(10, 6))\n",
        "    ax.grid(alpha=0.75)\n",
        "    ax.plot(dates, y_trues, lw=3, color='#2ecc71', alpha=0.8, label='Ground truth')\n",
        "    ax.plot(dates, y_preds, lw=3, color='#e74c3c', alpha=0.8, label='Prediction')\n",
        "    ax.legend()\n",
        "    ax.set_title(metric)"
      ],
      "execution_count": 23,
      "outputs": []
    },
    {
      "cell_type": "code",
      "metadata": {
        "id": "aVggJJ0zTzh2",
        "outputId": "1772b72f-60ad-4652-cc2f-80f1a3a4378f",
        "colab": {
          "base_uri": "https://localhost:8080/",
          "height": 482
        }
      },
      "source": [
        "evaluate_model(model)\n"
      ],
      "execution_count": 24,
      "outputs": [
        {
          "output_type": "stream",
          "name": "stderr",
          "text": [
            "/usr/local/lib/python3.7/dist-packages/matplotlib/backends/backend_agg.py:214: RuntimeWarning: Glyph 9 missing from current font.\n",
            "  font.set_text(s, 0.0, flags=flags)\n",
            "/usr/local/lib/python3.7/dist-packages/matplotlib/backends/backend_agg.py:183: RuntimeWarning: Glyph 9 missing from current font.\n",
            "  font.set_text(s, 0, flags=flags)\n"
          ]
        },
        {
          "output_type": "display_data",
          "data": {
            "image/png": "[encoded data removed]",
            "text/plain": [
              "<Figure size 720x432 with 1 Axes>"
            ]
          },
          "metadata": {
            "needs_background": "light"
          }
        }
      ]
    },
    {
      "cell_type": "code",
      "metadata": {
        "id": "sVSEKIrxT1X-"
      },
      "source": [
        ""
      ],
      "execution_count": null,
      "outputs": []
    },
    {
      "cell_type": "code",
      "metadata": {
        "id": "6nbX2nqHVZUe"
      },
      "source": [
        "from river import datasets\n",
        "\n",
        "for x, y in datasets.AirlinePassengers():\n",
        "    print(x, y)\n",
        "    print(x['month'].toordinal())\n",
        "    break"
      ],
      "execution_count": null,
      "outputs": []
    },
    {
      "cell_type": "code",
      "metadata": {
        "id": "vtR15ykdVZpW"
      },
      "source": [
        "from river import compose\n",
        "from river import linear_model\n",
        "from river import preprocessing\n",
        "\n",
        "\n",
        "def get_ordinal_date(x):\n",
        "    return {'ordinal_date': x['month'].toordinal()}\n",
        "\n",
        "\n",
        "model = compose.Pipeline(\n",
        "    ('ordinal_date', compose.FuncTransformer(get_ordinal_date)),\n",
        "    ('scale', preprocessing.StandardScaler()),\n",
        "    ('lin_reg', linear_model.LinearRegression())\n",
        ")"
      ],
      "execution_count": null,
      "outputs": []
    },
    {
      "cell_type": "code",
      "metadata": {
        "id": "uK_IIhFzVbTO"
      },
      "source": [
        "from river import metrics\n",
        "import matplotlib.pyplot as plt\n",
        "\n",
        "\n",
        "def evaluate_model(model): \n",
        "\n",
        "    metric = metrics.Rolling(metrics.MAE(), 12)\n",
        "\n",
        "    dates = []\n",
        "    y_trues = []\n",
        "    y_preds = []\n",
        "\n",
        "    for x, y in datasets.AirlinePassengers():\n",
        "\n",
        "        # Obtain the prior prediction and update the model in one go\n",
        "        y_pred = model.predict_one(x)\n",
        "        model.learn_one(x, y)\n",
        "\n",
        "        # Update the error metric\n",
        "        metric.update(y, y_pred)\n",
        "\n",
        "        # Store the true value and the prediction\n",
        "        dates.append(x['month'])\n",
        "        y_trues.append(y)\n",
        "        y_preds.append(y_pred)\n",
        "\n",
        "    # Plot the results\n",
        "    fig, ax = plt.subplots(figsize=(10, 6))\n",
        "    ax.grid(alpha=0.75)\n",
        "    ax.plot(dates, y_trues, lw=3, color='#2ecc71', alpha=0.8, label='Ground truth')\n",
        "    ax.plot(dates, y_preds, lw=3, color='#e74c3c', alpha=0.8, label='Prediction')\n",
        "    ax.legend()\n",
        "    ax.set_title(metric)"
      ],
      "execution_count": null,
      "outputs": []
    },
    {
      "cell_type": "code",
      "metadata": {
        "id": "eCF7bdPTVesu"
      },
      "source": [
        "evaluate_model(model)"
      ],
      "execution_count": null,
      "outputs": []
    },
    {
      "cell_type": "code",
      "metadata": {
        "id": "cHJIaifqVgBu"
      },
      "source": [
        ""
      ],
      "execution_count": null,
      "outputs": []
    }
  ]
}